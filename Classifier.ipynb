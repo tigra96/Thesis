{
 "cells": [
  {
   "cell_type": "code",
   "execution_count": 32,
   "metadata": {},
   "outputs": [],
   "source": [
    "import pandas as pd # для работы с таблицами\n",
    "import psycopg2\n",
    "\n",
    "from math       import log\n",
    "from fpg_tree   import FPTree\n",
    "from sqlalchemy import create_engine\n",
    "from bs4 import BeautifulSoup # для обработки HTML\n",
    "\n",
    "ENGINE_PG = create_engine('postgresql+psycopg2://sports_ru_admin@db-test:5433/sports')"
   ]
  },
  {
   "cell_type": "markdown",
   "metadata": {},
   "source": [
    "# Предобработка входных данных"
   ]
  },
  {
   "cell_type": "code",
   "execution_count": 2,
   "metadata": {},
   "outputs": [
    {
     "data": {
      "text/html": [
       "<div>\n",
       "<style scoped>\n",
       "    .dataframe tbody tr th:only-of-type {\n",
       "        vertical-align: middle;\n",
       "    }\n",
       "\n",
       "    .dataframe tbody tr th {\n",
       "        vertical-align: top;\n",
       "    }\n",
       "\n",
       "    .dataframe thead th {\n",
       "        text-align: right;\n",
       "    }\n",
       "</style>\n",
       "<table border=\"1\" class=\"dataframe\">\n",
       "  <thead>\n",
       "    <tr style=\"text-align: right;\">\n",
       "      <th></th>\n",
       "      <th>body</th>\n",
       "      <th>name</th>\n",
       "    </tr>\n",
       "  </thead>\n",
       "  <tbody>\n",
       "    <tr>\n",
       "      <th>0</th>\n",
       "      <td>&lt;embed type=\"application/x-shockwave-flash\" sr...</td>\n",
       "      <td>Спартак</td>\n",
       "    </tr>\n",
       "    <tr>\n",
       "      <th>1</th>\n",
       "      <td>&lt;p&gt;&lt;em&gt;&lt;strong&gt;В минувшие выходные завершился ...</td>\n",
       "      <td>Роджер Федерер</td>\n",
       "    </tr>\n",
       "    <tr>\n",
       "      <th>2</th>\n",
       "      <td>&lt;h2&gt;Мутко могут отстранить от футбола&lt;/h2&gt;\\n&lt;p...</td>\n",
       "      <td>Спартак</td>\n",
       "    </tr>\n",
       "    <tr>\n",
       "      <th>3</th>\n",
       "      <td>&lt;p&gt;102-х летний Отто Фишер - житель Копейска Ч...</td>\n",
       "      <td>Спартак</td>\n",
       "    </tr>\n",
       "    <tr>\n",
       "      <th>4</th>\n",
       "      <td>&lt;p&gt;&lt;em&gt;&lt;strong&gt;Экс-пятая ракетка мира, коммент...</td>\n",
       "      <td>Роджер Федерер</td>\n",
       "    </tr>\n",
       "  </tbody>\n",
       "</table>\n",
       "</div>"
      ],
      "text/plain": [
       "                                                body            name\n",
       "0  <embed type=\"application/x-shockwave-flash\" sr...         Спартак\n",
       "1  <p><em><strong>В минувшие выходные завершился ...  Роджер Федерер\n",
       "2  <h2>Мутко могут отстранить от футбола</h2>\\n<p...         Спартак\n",
       "3  <p>102-х летний Отто Фишер - житель Копейска Ч...         Спартак\n",
       "4  <p><em><strong>Экс-пятая ракетка мира, коммент...  Роджер Федерер"
      ]
     },
     "execution_count": 2,
     "metadata": {},
     "output_type": "execute_result"
    }
   ],
   "source": [
    "# Считываем данные из БД.\n",
    "\n",
    "df = pd.read_sql('''\n",
    "                    (\n",
    "                        SELECT distinct body\n",
    "                        FROM blog_posts \n",
    "                        INNER JOIN bs_tag_links  \n",
    "                            ON blog_posts.id = bs_tag_links.obj_id\n",
    "                        INNER JOIN tags \n",
    "                            ON tags.id = bs_tag_links.tag_id\n",
    "                        WHERE tags.name IN ('Спартак')\n",
    "                        LIMIT 500\n",
    "                    )\n",
    "                    UNION \n",
    "                    (\n",
    "                        SELECT distinct body\n",
    "                        FROM blog_posts \n",
    "                        INNER JOIN bs_tag_links  \n",
    "                            ON blog_posts.id = bs_tag_links.obj_id\n",
    "                        INNER JOIN tags \n",
    "                            ON tags.id = bs_tag_links.tag_id\n",
    "                        WHERE tags.name IN ('Мартен Фуркад')\n",
    "                        LIMIT 500\n",
    "                    )\n",
    "                    UNION \n",
    "                    (\n",
    "                        SELECT distinct body\n",
    "                        FROM blog_posts \n",
    "                        INNER JOIN bs_tag_links  \n",
    "                            ON blog_posts.id = bs_tag_links.obj_id\n",
    "                        INNER JOIN tags \n",
    "                            ON tags.id = bs_tag_links.tag_id\n",
    "                        WHERE tags.name IN ('ЧМ-2018')\n",
    "                        LIMIT 500\n",
    "                    )\n",
    "                    UNION \n",
    "                    (\n",
    "                        SELECT distinct body\n",
    "                        FROM blog_posts \n",
    "                        INNER JOIN bs_tag_links  \n",
    "                            ON blog_posts.id = bs_tag_links.obj_id\n",
    "                        INNER JOIN tags \n",
    "                            ON tags.id = bs_tag_links.tag_id\n",
    "                        WHERE tags.name IN ('Роджер Федерер')\n",
    "                        LIMIT 500\n",
    "                    )\n",
    "                ''', ENGINE_PG)\n",
    "\n",
    "df.head()"
   ]
  },
  {
   "cell_type": "code",
   "execution_count": 3,
   "metadata": {},
   "outputs": [
    {
     "data": {
      "text/plain": [
       "'<p>102-х летний Отто Фишер - житель Копейска Челябинской области, старейший поклонник московского &quot;Спартака&quot;. Долгожитель отправился в Москву на матч любимой команды с &quot;Динамо&quot;. Все расходы за проезд, проживание и питание взял на себя футбольный клуб. В столице копейчанина ждет насыщенная программа: экскурсия по новому стадиону &quot;Открытие Арена&quot;, билеты в VIP-зону, фотографии с любимыми спортсменами.</p>\\r\\n<p><iframe src=\"https://www.youtube.com/embed/wpOV5cdVj94\" width=\"560\" height=\"315\">1</iframe></p> '"
      ]
     },
     "execution_count": 3,
     "metadata": {},
     "output_type": "execute_result"
    }
   ],
   "source": [
    "df.loc[3, 'body']"
   ]
  },
  {
   "cell_type": "code",
   "execution_count": 4,
   "metadata": {
    "scrolled": false
   },
   "outputs": [
    {
     "name": "stderr",
     "output_type": "stream",
     "text": [
      "/Users/aleksandrtager/anaconda3/lib/python3.6/site-packages/bs4/__init__.py:181: UserWarning: No parser was explicitly specified, so I'm using the best available HTML parser for this system (\"lxml\"). This usually isn't a problem, but if you run this code on another system, or in a different virtual environment, it may use a different parser and behave differently.\n",
      "\n",
      "The code that caused this warning is on line 193 of the file /Users/aleksandrtager/anaconda3/lib/python3.6/runpy.py. To get rid of this warning, change code that looks like this:\n",
      "\n",
      " BeautifulSoup(YOUR_MARKUP})\n",
      "\n",
      "to this:\n",
      "\n",
      " BeautifulSoup(YOUR_MARKUP, \"lxml\")\n",
      "\n",
      "  markup_type=markup_type))\n"
     ]
    },
    {
     "data": {
      "text/html": [
       "<div>\n",
       "<style scoped>\n",
       "    .dataframe tbody tr th:only-of-type {\n",
       "        vertical-align: middle;\n",
       "    }\n",
       "\n",
       "    .dataframe tbody tr th {\n",
       "        vertical-align: top;\n",
       "    }\n",
       "\n",
       "    .dataframe thead th {\n",
       "        text-align: right;\n",
       "    }\n",
       "</style>\n",
       "<table border=\"1\" class=\"dataframe\">\n",
       "  <thead>\n",
       "    <tr style=\"text-align: right;\">\n",
       "      <th></th>\n",
       "      <th>body</th>\n",
       "      <th>name</th>\n",
       "      <th>Post</th>\n",
       "    </tr>\n",
       "  </thead>\n",
       "  <tbody>\n",
       "    <tr>\n",
       "      <th>0</th>\n",
       "      <td>&lt;embed type=\"application/x-shockwave-flash\" sr...</td>\n",
       "      <td>Спартак</td>\n",
       "      <td></td>\n",
       "    </tr>\n",
       "    <tr>\n",
       "      <th>1</th>\n",
       "      <td>&lt;p&gt;&lt;em&gt;&lt;strong&gt;В минувшие выходные завершился ...</td>\n",
       "      <td>Роджер Федерер</td>\n",
       "      <td>в минувшие выходные завершился третий турнир у...</td>\n",
       "    </tr>\n",
       "    <tr>\n",
       "      <th>2</th>\n",
       "      <td>&lt;h2&gt;Мутко могут отстранить от футбола&lt;/h2&gt;\\n&lt;p...</td>\n",
       "      <td>Спартак</td>\n",
       "      <td>по информации dailymail, фифа приняла во внима...</td>\n",
       "    </tr>\n",
       "    <tr>\n",
       "      <th>3</th>\n",
       "      <td>&lt;p&gt;102-х летний Отто Фишер - житель Копейска Ч...</td>\n",
       "      <td>Спартак</td>\n",
       "      <td>102-х летний отто фишер - житель копейска челя...</td>\n",
       "    </tr>\n",
       "    <tr>\n",
       "      <th>4</th>\n",
       "      <td>&lt;p&gt;&lt;em&gt;&lt;strong&gt;Экс-пятая ракетка мира, коммент...</td>\n",
       "      <td>Роджер Федерер</td>\n",
       "      <td>экс-пятая ракетка мира, комментатор «евроспорт...</td>\n",
       "    </tr>\n",
       "  </tbody>\n",
       "</table>\n",
       "</div>"
      ],
      "text/plain": [
       "                                                body            name  \\\n",
       "0  <embed type=\"application/x-shockwave-flash\" sr...         Спартак   \n",
       "1  <p><em><strong>В минувшие выходные завершился ...  Роджер Федерер   \n",
       "2  <h2>Мутко могут отстранить от футбола</h2>\\n<p...         Спартак   \n",
       "3  <p>102-х летний Отто Фишер - житель Копейска Ч...         Спартак   \n",
       "4  <p><em><strong>Экс-пятая ракетка мира, коммент...  Роджер Федерер   \n",
       "\n",
       "                                                Post  \n",
       "0                                                     \n",
       "1  в минувшие выходные завершился третий турнир у...  \n",
       "2  по информации dailymail, фифа приняла во внима...  \n",
       "3  102-х летний отто фишер - житель копейска челя...  \n",
       "4  экс-пятая ракетка мира, комментатор «евроспорт...  "
      ]
     },
     "execution_count": 4,
     "metadata": {},
     "output_type": "execute_result"
    }
   ],
   "source": [
    "# Получим текст по следующим тегам 'p', 'li', 'h1', поскольку в остальных тегах содержательной информации \n",
    "# для дальнейшей обработки не содержится\n",
    "\n",
    "df['Post'] = df.body.apply(lambda x: '.'.join(content.text.lower() for content in BS(x).find_all(['p', 'li', 'h1'])))\n",
    "df.head()"
   ]
  },
  {
   "cell_type": "markdown",
   "metadata": {},
   "source": [
    "# Составление словаря\n"
   ]
  },
  {
   "cell_type": "markdown",
   "metadata": {},
   "source": [
    "В качестве словаря можно использовать открытый корпус с проекта OpenCorpora (http://www.opencorpora.org/) \n",
    "\n",
    "Скачаем морфологический словарь, который представляет собой файл XML в кодировке utf-8. Также на сайте представлено описание XML файла. \n",
    "Обрабатывать файл будем с помощью стандартной библиотеки для обратоки XML - bs4.\n",
    "\n"
   ]
  },
  {
   "cell_type": "code",
   "execution_count": 6,
   "metadata": {},
   "outputs": [],
   "source": [
    "with open('dict.opcorpora.xml') as f:\n",
    "    content = f.readlines()"
   ]
  },
  {
   "cell_type": "code",
   "execution_count": 7,
   "metadata": {},
   "outputs": [
    {
     "name": "stdout",
     "output_type": "stream",
     "text": [
      "Индексы лемм в XML:\n",
      "535 <lemmata>\n",
      "\n",
      "389895 </lemmata>\n",
      "\n"
     ]
    }
   ],
   "source": [
    "print('Индексы лемм в XML:')\n",
    "\n",
    "for i, word in enumerate(content):\n",
    "    if word == '<lemmata>\\n' or word == '</lemmata>\\n':\n",
    "        print(i, word)\n"
   ]
  },
  {
   "cell_type": "code",
   "execution_count": 8,
   "metadata": {
    "scrolled": true
   },
   "outputs": [
    {
     "data": {
      "text/plain": [
       "'    <lemma id=\"2\" rev=\"2\"><l t=\"ёж\"><g v=\"NOUN\"/><g v=\"inan\"/><g v=\"masc\"/></l><f t=\"ёж\"><g v=\"sing\"/><g v=\"nomn\"/></f><f t=\"ежа\"><g v=\"sing\"/><g v=\"gent\"/></f><f t=\"ежу\"><g v=\"sing\"/><g v=\"datv\"/></f><f t=\"ёж\"><g v=\"sing\"/><g v=\"accs\"/></f><f t=\"ежом\"><g v=\"sing\"/><g v=\"ablt\"/></f><f t=\"еже\"><g v=\"sing\"/><g v=\"loct\"/></f><f t=\"ежи\"><g v=\"plur\"/><g v=\"nomn\"/></f><f t=\"ежей\"><g v=\"plur\"/><g v=\"gent\"/></f><f t=\"ежам\"><g v=\"plur\"/><g v=\"datv\"/></f><f t=\"ежи\"><g v=\"plur\"/><g v=\"accs\"/></f><f t=\"ежами\"><g v=\"plur\"/><g v=\"ablt\"/></f><f t=\"ежах\"><g v=\"plur\"/><g v=\"loct\"/></f></lemma>\\n'"
      ]
     },
     "execution_count": 8,
     "metadata": {},
     "output_type": "execute_result"
    }
   ],
   "source": [
    "# Взглянем на данные.\n",
    "\n",
    "content[537]"
   ]
  },
  {
   "cell_type": "markdown",
   "metadata": {},
   "source": [
    " Первое слово \"Ёж\". Из описания в XML видно, что это существительное, мужской род, единственное число и в именительном падеже. Аналогичная статистика представлена для других падежей. \n",
    "\n",
    "Составим словарь ключ:значение, где ключом будет исходное слово, а значением - нормальная форма слова"
   ]
  },
  {
   "cell_type": "code",
   "execution_count": 9,
   "metadata": {},
   "outputs": [
    {
     "name": "stdout",
     "output_type": "stream",
     "text": [
      "CPU times: user 8min 31s, sys: 1.87 s, total: 8min 33s\n",
      "Wall time: 8min 38s\n"
     ]
    }
   ],
   "source": [
    "%%time\n",
    "\n",
    "d_morph = {}\n",
    "\n",
    "# данные по словам хрянятся в строках от 536 и до 389895\n",
    "for cont in content[536:389895]:\n",
    "    # Создадим объект BeautifulSoup\n",
    "    xml_soup = BeautifulSoup(cont, 'xml')\n",
    "    \n",
    "    for word in xml_soup.find_all('f'):\n",
    "        d_morph[word['t'].replace('ё', 'е')] =  xml_soup.find('l')['t'].replace('ё', 'е')"
   ]
  },
  {
   "cell_type": "markdown",
   "metadata": {},
   "source": [
    "# Нормализация"
   ]
  },
  {
   "cell_type": "code",
   "execution_count": 10,
   "metadata": {},
   "outputs": [],
   "source": [
    "def normalization(name):\n",
    "    \"\"\"\n",
    "        Данная функция выполняет следующие действия с каждым постом:\n",
    "            1) удаляет все символы, кроме текста, пробелов\n",
    "            2) удаляет лишние пробелы\n",
    "            3) нормализует каждое слово\n",
    "    \"\"\"\n",
    "    \n",
    "    letters = [i for i in 'йцукенгшщзхъфывапролджэёячсмитьбю .,']\n",
    "    name = name.replace('.', '. ').replace(',', ', ').replace(',', ', ').replace('ё', 'е')\n",
    "    \n",
    "    name = ''.join(i for i in name if i in letters)\n",
    "    name = name.replace('.', '').replace(',', '')\n",
    "    \n",
    "    name = ' '.join(list(set([d_morph[i] if i in d_morph.keys() else i for i in name.split(' ')])))\n",
    "    name += ' '\n",
    "    return name"
   ]
  },
  {
   "cell_type": "markdown",
   "metadata": {},
   "source": [
    "# Отбор признаков "
   ]
  },
  {
   "cell_type": "code",
   "execution_count": 11,
   "metadata": {},
   "outputs": [
    {
     "name": "stdout",
     "output_type": "stream",
     "text": [
      "CPU times: user 4.36 s, sys: 331 ms, total: 4.69 s\n",
      "Wall time: 4.74 s\n"
     ]
    }
   ],
   "source": [
    "%%time\n",
    "\n",
    "# Нормализуем все слова в постах\n",
    "df['Post_norm'] = df.Post.apply(normalization)"
   ]
  },
  {
   "cell_type": "markdown",
   "metadata": {
    "scrolled": true
   },
   "source": [
    "Составим список возможных уникальных слов в тексте"
   ]
  },
  {
   "cell_type": "code",
   "execution_count": 12,
   "metadata": {},
   "outputs": [
    {
     "data": {
      "text/plain": [
       "53659"
      ]
     },
     "execution_count": 12,
     "metadata": {},
     "output_type": "execute_result"
    }
   ],
   "source": [
    "whole_text = df.Post_norm.sum().split(' ')\n",
    "                                \n",
    "features = list(set(whole_text))\n",
    "len(features)"
   ]
  },
  {
   "cell_type": "markdown",
   "metadata": {},
   "source": [
    "Как видно на 2000 текстов приходится больше 50000 разлчиных слов. Для сокращения их числа предлагаются следующие действия:\n",
    "\n",
    "    1) Удаление \"стоп\" слов\n",
    "    2) Удаление слов, встречающийхся реже, чем минимальная поддержка MinSupp\n",
    "    3) Удаление слов, короче 2 символов"
   ]
  },
  {
   "cell_type": "code",
   "execution_count": 13,
   "metadata": {},
   "outputs": [],
   "source": [
    "stop_words = ['а', 'без', 'более', 'больше', 'большой', 'будет', 'будто', 'бы', 'был', 'была',\n",
    "              'были', 'было', 'быть', 'в', 'вам', 'вас', 'вдруг', 'ведь', 'весь', 'во',\n",
    "              'вот', 'впрочем', 'все', 'всегда', 'всего', 'всей', 'всех', 'всю', 'вы', 'где',\n",
    "              'говорить', 'год', 'да', 'даже', 'два', 'для', 'до', 'другой', 'его', 'ее',\n",
    "              'ей', 'ему', 'если', 'есть', 'еще', 'ещё', 'ж', 'же', 'за', 'зачем',\n",
    "              'здесь', 'знать', 'и', 'из', 'или', 'им', 'иногда', 'их', 'к', 'как',\n",
    "              'какая', 'какой', 'когда', 'конечно', 'который', 'кто', 'куда', 'ли', 'лучше', 'между',\n",
    "              'меня', 'мне', 'много', 'может', 'можно', 'мой', 'мочь', 'моя', 'мы', 'на',\n",
    "              'над', 'надо', 'наконец', 'нас', 'наш', 'не', 'него', 'нее', 'ней', 'нельзя',\n",
    "              'нет', 'ни', 'нибудь', 'никогда', 'ним', 'них', 'ничего', 'но', 'ну', 'о',\n",
    "              'об', 'один', 'он', 'она', 'они', 'оно', 'оный', 'опять', 'от', 'ото',\n",
    "              'перед', 'по', 'под', 'после', 'потом', 'потому', 'почти', 'при', 'про', 'раз',\n",
    "              'разве', 'с', 'сам', 'свой', 'свою', 'себе', 'себя', 'сейчас', 'сказать', 'со',\n",
    "              'совсем', 'та', 'так', 'такой', 'там', 'тебя', 'тем', 'теперь', 'то', 'тогда',\n",
    "              'того', 'тоже', 'только', 'том', 'тот', 'три', 'тут', 'ты', 'у', 'уж',\n",
    "              'уже', 'хорошо', 'хоть', 'чего', 'чем', 'через', 'что', 'чтоб', 'чтобы', 'чуть',\n",
    "              'эти', 'это', 'этого', 'этой', 'этом', 'этот', 'эту', 'я']\n",
    "\n",
    "stop_words = [d_morph[i] for i in stop_words if i in d_morph.keys()]"
   ]
  },
  {
   "cell_type": "code",
   "execution_count": 34,
   "metadata": {
    "scrolled": true
   },
   "outputs": [
    {
     "data": {
      "text/plain": [
       "3645"
      ]
     },
     "execution_count": 34,
     "metadata": {},
     "output_type": "execute_result"
    }
   ],
   "source": [
    "d = {}\n",
    "MinSupp = 20\n",
    "\n",
    "for feat in features:\n",
    "    num_in_text = whole_text.count(feat)\n",
    "    \n",
    "    # Если:\n",
    "    # слово втречается чаще MinSupp и длина слова > 2 и слово не \"стоп\" слово\n",
    "    if num_in_text > MinSupp and len(feat) > 2 and feat not in stop_words:\n",
    "        # То добавим в словарь слов\n",
    "        d[feat] = num_in_text \n",
    "\n",
    "len(d.keys())"
   ]
  },
  {
   "cell_type": "markdown",
   "metadata": {},
   "source": [
    "Число слов сократилось почти в 10 раз, можно попробовать составить пространство признаков из них. \n",
    "\n",
    "Взглянем на самые популярные:"
   ]
  },
  {
   "cell_type": "code",
   "execution_count": 35,
   "metadata": {
    "scrolled": false
   },
   "outputs": [
    {
     "data": {
      "text/plain": [
       "[(919, 'первый'),\n",
       " (803, 'самый'),\n",
       " (793, 'матч'),\n",
       " (781, 'время'),\n",
       " (750, 'очень'),\n",
       " (704, 'стал'),\n",
       " (694, 'игра'),\n",
       " (684, 'команда'),\n",
       " (670, 'место'),\n",
       " (666, 'последний')]"
      ]
     },
     "execution_count": 35,
     "metadata": {},
     "output_type": "execute_result"
    }
   ],
   "source": [
    "sorted([(val, i) for i, val in d.items()], reverse=True)[:10]"
   ]
  },
  {
   "cell_type": "code",
   "execution_count": 36,
   "metadata": {},
   "outputs": [
    {
     "data": {
      "text/html": [
       "<div>\n",
       "<style scoped>\n",
       "    .dataframe tbody tr th:only-of-type {\n",
       "        vertical-align: middle;\n",
       "    }\n",
       "\n",
       "    .dataframe tbody tr th {\n",
       "        vertical-align: top;\n",
       "    }\n",
       "\n",
       "    .dataframe thead th {\n",
       "        text-align: right;\n",
       "    }\n",
       "</style>\n",
       "<table border=\"1\" class=\"dataframe\">\n",
       "  <thead>\n",
       "    <tr style=\"text-align: right;\">\n",
       "      <th></th>\n",
       "      <th>body</th>\n",
       "      <th>name</th>\n",
       "      <th>Post</th>\n",
       "      <th>Post_norm</th>\n",
       "      <th>принести</th>\n",
       "      <th>передавал</th>\n",
       "      <th>помоему</th>\n",
       "      <th>минус</th>\n",
       "      <th>нюанс</th>\n",
       "      <th>становлюсь</th>\n",
       "      <th>...</th>\n",
       "      <th>грядущий</th>\n",
       "      <th>девятый</th>\n",
       "      <th>сюрприз</th>\n",
       "      <th>удобный</th>\n",
       "      <th>вечеринка</th>\n",
       "      <th>забит</th>\n",
       "      <th>четкий</th>\n",
       "      <th>дан</th>\n",
       "      <th>море</th>\n",
       "      <th>успешный</th>\n",
       "    </tr>\n",
       "  </thead>\n",
       "  <tbody>\n",
       "    <tr>\n",
       "      <th>0</th>\n",
       "      <td>&lt;embed type=\"application/x-shockwave-flash\" sr...</td>\n",
       "      <td>Спартак</td>\n",
       "      <td></td>\n",
       "      <td></td>\n",
       "      <td>0</td>\n",
       "      <td>0</td>\n",
       "      <td>0</td>\n",
       "      <td>0</td>\n",
       "      <td>0</td>\n",
       "      <td>0</td>\n",
       "      <td>...</td>\n",
       "      <td>0</td>\n",
       "      <td>0</td>\n",
       "      <td>0</td>\n",
       "      <td>0</td>\n",
       "      <td>0</td>\n",
       "      <td>0</td>\n",
       "      <td>0</td>\n",
       "      <td>0</td>\n",
       "      <td>0</td>\n",
       "      <td>0</td>\n",
       "    </tr>\n",
       "    <tr>\n",
       "      <th>1</th>\n",
       "      <td>&lt;p&gt;&lt;em&gt;&lt;strong&gt;В минувшие выходные завершился ...</td>\n",
       "      <td>Роджер Федерер</td>\n",
       "      <td>в минувшие выходные завершился третий турнир у...</td>\n",
       "      <td>куда коэффициент можно сумма сенсация триумфа...</td>\n",
       "      <td>0</td>\n",
       "      <td>0</td>\n",
       "      <td>0</td>\n",
       "      <td>0</td>\n",
       "      <td>0</td>\n",
       "      <td>0</td>\n",
       "      <td>...</td>\n",
       "      <td>0</td>\n",
       "      <td>0</td>\n",
       "      <td>0</td>\n",
       "      <td>0</td>\n",
       "      <td>0</td>\n",
       "      <td>0</td>\n",
       "      <td>0</td>\n",
       "      <td>0</td>\n",
       "      <td>0</td>\n",
       "      <td>0</td>\n",
       "    </tr>\n",
       "    <tr>\n",
       "      <th>2</th>\n",
       "      <td>&lt;h2&gt;Мутко могут отстранить от футбола&lt;/h2&gt;\\n&lt;p...</td>\n",
       "      <td>Спартак</td>\n",
       "      <td>по информации dailymail, фифа приняла во внима...</td>\n",
       "      <td>чиновник оценка система нарушение предварител...</td>\n",
       "      <td>0</td>\n",
       "      <td>0</td>\n",
       "      <td>0</td>\n",
       "      <td>0</td>\n",
       "      <td>0</td>\n",
       "      <td>0</td>\n",
       "      <td>...</td>\n",
       "      <td>0</td>\n",
       "      <td>0</td>\n",
       "      <td>0</td>\n",
       "      <td>0</td>\n",
       "      <td>0</td>\n",
       "      <td>0</td>\n",
       "      <td>0</td>\n",
       "      <td>0</td>\n",
       "      <td>0</td>\n",
       "      <td>1</td>\n",
       "    </tr>\n",
       "    <tr>\n",
       "      <th>3</th>\n",
       "      <td>&lt;p&gt;102-х летний Отто Фишер - житель Копейска Ч...</td>\n",
       "      <td>Спартак</td>\n",
       "      <td>102-х летний отто фишер - житель копейска челя...</td>\n",
       "      <td>отто динамо все старейший проезд команда насы...</td>\n",
       "      <td>0</td>\n",
       "      <td>0</td>\n",
       "      <td>0</td>\n",
       "      <td>0</td>\n",
       "      <td>0</td>\n",
       "      <td>0</td>\n",
       "      <td>...</td>\n",
       "      <td>0</td>\n",
       "      <td>0</td>\n",
       "      <td>0</td>\n",
       "      <td>0</td>\n",
       "      <td>0</td>\n",
       "      <td>0</td>\n",
       "      <td>0</td>\n",
       "      <td>0</td>\n",
       "      <td>0</td>\n",
       "      <td>0</td>\n",
       "    </tr>\n",
       "    <tr>\n",
       "      <th>4</th>\n",
       "      <td>&lt;p&gt;&lt;em&gt;&lt;strong&gt;Экс-пятая ракетка мира, коммент...</td>\n",
       "      <td>Роджер Федерер</td>\n",
       "      <td>экс-пятая ракетка мира, комментатор «евроспорт...</td>\n",
       "      <td>финал сетка киргиос евроспорта еще ракетка ти...</td>\n",
       "      <td>0</td>\n",
       "      <td>0</td>\n",
       "      <td>0</td>\n",
       "      <td>0</td>\n",
       "      <td>0</td>\n",
       "      <td>0</td>\n",
       "      <td>...</td>\n",
       "      <td>0</td>\n",
       "      <td>0</td>\n",
       "      <td>0</td>\n",
       "      <td>0</td>\n",
       "      <td>0</td>\n",
       "      <td>0</td>\n",
       "      <td>0</td>\n",
       "      <td>0</td>\n",
       "      <td>0</td>\n",
       "      <td>0</td>\n",
       "    </tr>\n",
       "  </tbody>\n",
       "</table>\n",
       "<p>5 rows × 3649 columns</p>\n",
       "</div>"
      ],
      "text/plain": [
       "                                                body            name  \\\n",
       "0  <embed type=\"application/x-shockwave-flash\" sr...         Спартак   \n",
       "1  <p><em><strong>В минувшие выходные завершился ...  Роджер Федерер   \n",
       "2  <h2>Мутко могут отстранить от футбола</h2>\\n<p...         Спартак   \n",
       "3  <p>102-х летний Отто Фишер - житель Копейска Ч...         Спартак   \n",
       "4  <p><em><strong>Экс-пятая ракетка мира, коммент...  Роджер Федерер   \n",
       "\n",
       "                                                Post  \\\n",
       "0                                                      \n",
       "1  в минувшие выходные завершился третий турнир у...   \n",
       "2  по информации dailymail, фифа приняла во внима...   \n",
       "3  102-х летний отто фишер - житель копейска челя...   \n",
       "4  экс-пятая ракетка мира, комментатор «евроспорт...   \n",
       "\n",
       "                                           Post_norm  принести  передавал  \\\n",
       "0                                                            0          0   \n",
       "1   куда коэффициент можно сумма сенсация триумфа...         0          0   \n",
       "2   чиновник оценка система нарушение предварител...         0          0   \n",
       "3   отто динамо все старейший проезд команда насы...         0          0   \n",
       "4   финал сетка киргиос евроспорта еще ракетка ти...         0          0   \n",
       "\n",
       "   помоему  минус  нюанс  становлюсь    ...     грядущий  девятый  сюрприз  \\\n",
       "0        0      0      0           0    ...            0        0        0   \n",
       "1        0      0      0           0    ...            0        0        0   \n",
       "2        0      0      0           0    ...            0        0        0   \n",
       "3        0      0      0           0    ...            0        0        0   \n",
       "4        0      0      0           0    ...            0        0        0   \n",
       "\n",
       "   удобный  вечеринка  забит  четкий  дан  море  успешный  \n",
       "0        0          0      0       0    0     0         0  \n",
       "1        0          0      0       0    0     0         0  \n",
       "2        0          0      0       0    0     0         1  \n",
       "3        0          0      0       0    0     0         0  \n",
       "4        0          0      0       0    0     0         0  \n",
       "\n",
       "[5 rows x 3649 columns]"
      ]
     },
     "execution_count": 36,
     "metadata": {},
     "output_type": "execute_result"
    }
   ],
   "source": [
    "# Добавим столбцы в таблицу, характеризующие содержание конкретного слова в конкретном тексте\n",
    "for key in list(d.keys()):\n",
    "    df[key] = df.Post_norm.apply(lambda x: 1 if key in x.split(' ') else 0)\n",
    "    \n",
    "df.head()"
   ]
  },
  {
   "cell_type": "markdown",
   "metadata": {},
   "source": [
    "Отберем признаки с помощью метода взаимной информации. Этот показатель измеряет количество информации о принадлежности к классу c, которую несет наличие или отсутствие термина."
   ]
  },
  {
   "cell_type": "code",
   "execution_count": 38,
   "metadata": {
    "scrolled": true
   },
   "outputs": [
    {
     "name": "stdout",
     "output_type": "stream",
     "text": [
      "CPU times: user 16min, sys: 7min 31s, total: 23min 31s\n",
      "Wall time: 24min 29s\n"
     ]
    }
   ],
   "source": [
    "%%time\n",
    "\n",
    "N = df.shape[0]\n",
    "\n",
    "for col in list(d.keys()):\n",
    "    arr_MI = []\n",
    "    \n",
    "    for cl in df.name.drop_duplicates():\n",
    "        \n",
    "        N00 = df[(df[col] != 1) & (df.name != cl)].shape[0]\n",
    "        N01 = df[(df[col] != 1) & (df.name == cl)].shape[0]\n",
    "        N10 = df[(df[col] == 1) & (df.name != cl)].shape[0]\n",
    "        N11 = df[(df[col] == 1) & (df.name == cl)].shape[0]\n",
    "\n",
    "        Nd0 = df[df.name != cl].shape[0]\n",
    "        Nd1 = df[df.name == cl].shape[0]\n",
    "        N0d = df[df[col] != 1].shape[0]\n",
    "        N1d = df[df[col] == 1].shape[0]\n",
    "        \n",
    "        try:\n",
    "            \n",
    "            MI = N11 / N * log(N * N11 / Nd1 / N1d, 2) + \\\n",
    "                    N01 / N * log(N * N01 / Nd0 / Nd1, 2) + \\\n",
    "                        N10 / N * log(N * N10 / Nd0 / N1d, 2) + \\\n",
    "                            N00 / N * log(N * N00 / Nd0 / N10, 2)\n",
    "\n",
    "            \n",
    "            arr_MI.append(MI)\n",
    "        except:\n",
    "            pass\n",
    "    # print(arr_MI)\n",
    "    if not arr_MI or (max(arr_MI) - min(arr_MI)) / max(arr_MI) < 0.3 or max(arr_MI) < 2:\n",
    "        d.pop(col, None)"
   ]
  },
  {
   "cell_type": "code",
   "execution_count": 40,
   "metadata": {},
   "outputs": [],
   "source": [
    "df = df[['body', 'name', 'Post', 'Post_norm'] + list(d.keys())]"
   ]
  },
  {
   "cell_type": "code",
   "execution_count": 39,
   "metadata": {},
   "outputs": [
    {
     "data": {
      "text/plain": [
       "[(457, 'турнир'),\n",
       " (375, 'роджер'),\n",
       " (360, 'спартак'),\n",
       " (353, 'клуб'),\n",
       " (326, 'мяч'),\n",
       " (319, 'федерер'),\n",
       " (315, 'состав'),\n",
       " (309, 'многое'),\n",
       " (294, 'гонка'),\n",
       " (285, 'финал')]"
      ]
     },
     "execution_count": 39,
     "metadata": {},
     "output_type": "execute_result"
    }
   ],
   "source": [
    "# Взглянем на топ уже информативных признаков\n",
    "\n",
    "sorted([(val, i) for i, val in d.items()], reverse=True)[:10]"
   ]
  },
  {
   "cell_type": "markdown",
   "metadata": {},
   "source": [
    "# FPTree"
   ]
  },
  {
   "cell_type": "markdown",
   "metadata": {},
   "source": [
    "Основная цель - избежать многократного прохода базы транзакций, поскольку чтение из БД операция затратная, а данных может быть много \n",
    "\n",
    "FP дерево хранит всю информацию о всех часто встречающихся наборах\n",
    "Дерево простраивается достаточно быстро идальше при чтение новых записей увеличение структуры происходить не будет. Т.о. происходит очень эффективное хранение всей быза транзакций.  "
   ]
  },
  {
   "cell_type": "code",
   "execution_count": 41,
   "metadata": {},
   "outputs": [],
   "source": [
    "tree = FPTree()\n",
    "\n",
    "# Движемся по всей базу транзакций\n",
    "for row_num in range(df.shape[0]):\n",
    "    \n",
    "    # Получаем мн-во эл-в, в i-й транзакции\n",
    "    row = list(df.loc[row_num][df.loc[row_num] == 1].index)\n",
    "    \n",
    "    # Сортируем элементы по частоте встречаемости в тексте\n",
    "    row_sorted = [j[1] for j in sorted([(d[i], i) \n",
    "                       for i in row], reverse=True)]\n",
    "    \n",
    "    # И добавляем в дерево\n",
    "    if row_sorted:\n",
    "        tree.add(row_sorted)"
   ]
  },
  {
   "cell_type": "code",
   "execution_count": 42,
   "metadata": {
    "scrolled": true
   },
   "outputs": [],
   "source": [
    "def conditional_tree(v, T, l, path = []):\n",
    "    \"\"\"\n",
    "        Данная процедура строить условное FP дерево\n",
    "        На вход подуется корень исходного дерева,\n",
    "        экземпляр условного дерева и признак l\n",
    "    \"\"\"\n",
    "      \n",
    "    for child in v.children:\n",
    "        \n",
    "        path.append(child[0])  \n",
    "        \n",
    "        if child[0] == l:\n",
    "            \n",
    "            path = path[:-1]\n",
    "            \n",
    "            T.add(path)\n",
    "        else:\n",
    "            k, path = conditional_tree(child[1], T, l, path)\n",
    "            \n",
    "    path = path[:-1]  \n",
    "    return v._count, path\n",
    "\n"
   ]
  },
  {
   "cell_type": "code",
   "execution_count": 43,
   "metadata": {},
   "outputs": [],
   "source": [
    "def disp(self, ind=1):\n",
    "    \"\"\"\n",
    "        Данная функция предоставляет\n",
    "        простенькую визуализацию дерева.\n",
    "        На вход подается корневая вершина. \n",
    "    \"\"\"\n",
    "    \n",
    "    print ('    '*ind, self._item, ' ', self._count)\n",
    "    for child in self.children:\n",
    "        disp(child[1], ind+1)"
   ]
  },
  {
   "cell_type": "code",
   "execution_count": 44,
   "metadata": {},
   "outputs": [],
   "source": [
    "def find(tree, key, c=0):\n",
    "     \"\"\"\n",
    "         Данная функция находит суммарную поддержку \n",
    "         признака key в дереве tree\n",
    "     \"\"\"\n",
    "    \n",
    "    for child in tree.children:\n",
    "        if child[0] == key:\n",
    "            c += child[1].count\n",
    "        c = find(child[1], key, c)\n",
    "    return c"
   ]
  },
  {
   "cell_type": "code",
   "execution_count": 45,
   "metadata": {},
   "outputs": [],
   "source": [
    "def FP_Find(T, fi, R):\n",
    "    \"\"\"\n",
    "        Основная рекурсивная функция - находит список ассоциативных правил\n",
    "        На вход получает дерево, множество признаков фи и список правил\n",
    "        Возвращает список правил\n",
    "    \"\"\"\n",
    "\n",
    "    # Идем по уровням дерева СНИЗУ-ВВЕРХ\n",
    "    for f in [j[1] for j in sorted([(val, key) \n",
    "                                    for key, val in d.items() ])]:\n",
    "        # Если признак в текузем дереве встречатся больше, чем MinSup\n",
    "        if find(T.root, f) > 50:\n",
    "            # Удаляем старое (неполное) множество из списка правил\n",
    "            if fi in R:\n",
    "                R.remove(fi)\n",
    "            \n",
    "            # Создаем условное FP дерево\n",
    "            cond_tree = FPTree()\n",
    "            conditional_tree(T.root, cond_tree, f, [])\n",
    "    \n",
    "            # Добавляем новое правило\n",
    "            R.append(fi)\n",
    "\n",
    "            # И рекурсивно вызываем FP_Find\n",
    "            R = FP_Find(cond_tree, fi.union({f}), R)\n",
    "    \n",
    "    return R       "
   ]
  },
  {
   "cell_type": "code",
   "execution_count": 46,
   "metadata": {
    "scrolled": true
   },
   "outputs": [
    {
     "name": "stdout",
     "output_type": "stream",
     "text": [
      "CPU times: user 1min 14s, sys: 535 ms, total: 1min 15s\n",
      "Wall time: 1min 19s\n"
     ]
    }
   ],
   "source": [
    "%%time\n",
    "R  = []\n",
    "fi = set()\n",
    "\n",
    "rules = FP_Find(tree, fi, R)"
   ]
  },
  {
   "cell_type": "code",
   "execution_count": 47,
   "metadata": {},
   "outputs": [
    {
     "data": {
      "text/plain": [
       "[{'глобус'}, {'гонкий'}, {'милош', 'раонич'}, {'милош'}, {'раонич'}]"
      ]
     },
     "execution_count": 47,
     "metadata": {},
     "output_type": "execute_result"
    }
   ],
   "source": [
    "# Взглянем на список правил\n",
    "\n",
    "rules[:5]"
   ]
  },
  {
   "cell_type": "markdown",
   "metadata": {},
   "source": [
    "Видно, что надо обработать получившиеся правила. Это можно сделать сделав групировку по каждому уникальному слову, взяв объединение как агрегатную функцию. "
   ]
  },
  {
   "cell_type": "code",
   "execution_count": 48,
   "metadata": {
    "scrolled": true
   },
   "outputs": [
    {
     "data": {
      "text/plain": [
       "[{'глобус'},\n",
       " {'гейм',\n",
       "  'джокович',\n",
       "  'партия',\n",
       "  'подача',\n",
       "  'полуфинал',\n",
       "  'ракетка',\n",
       "  'рафа',\n",
       "  'рейтинг',\n",
       "  'сет',\n",
       "  'сетка',\n",
       "  'теннисист',\n",
       "  'федерера',\n",
       "  'швейцарец',\n",
       "  'энди'},\n",
       " {'антон',\n",
       "  'биатлонист',\n",
       "  'зачет',\n",
       "  'индивидуальный',\n",
       "  'лыжа',\n",
       "  'медаль',\n",
       "  'подиум',\n",
       "  'промах',\n",
       "  'рубеж',\n",
       "  'секунда',\n",
       "  'спринт',\n",
       "  'стрельба',\n",
       "  'трасса',\n",
       "  'француз',\n",
       "  'фуркада',\n",
       "  'эстафета'},\n",
       " {'антон',\n",
       "  'биатлонист',\n",
       "  'зачет',\n",
       "  'индивидуальный',\n",
       "  'лыжа',\n",
       "  'медаль',\n",
       "  'норвежец',\n",
       "  'подиум',\n",
       "  'промах',\n",
       "  'рубеж',\n",
       "  'спринт',\n",
       "  'стрельба',\n",
       "  'трасса',\n",
       "  'француз',\n",
       "  'фуркада',\n",
       "  'эстафета'},\n",
       " {'виктория',\n",
       "  'выпуск',\n",
       "  'дель',\n",
       "  'джокович',\n",
       "  'мария',\n",
       "  'маррей',\n",
       "  'мартин',\n",
       "  'новак',\n",
       "  'полуфинал',\n",
       "  'ракетка',\n",
       "  'рафа',\n",
       "  'сет',\n",
       "  'теннисист',\n",
       "  'теннисный',\n",
       "  'томаш',\n",
       "  'уильямс',\n",
       "  'федерера',\n",
       "  'хуан',\n",
       "  'шарапова',\n",
       "  'энди'}]"
      ]
     },
     "execution_count": 48,
     "metadata": {},
     "output_type": "execute_result"
    }
   ],
   "source": [
    "arr_rule = []\n",
    "\n",
    "# идем по всем признакам, входящий в ассоциативные правила\n",
    "for word in set.union(*rules):\n",
    "    arr_word = []\n",
    "    \n",
    "    # Идем по правилам\n",
    "    for rule in rules:\n",
    "        if word in rule: # Если слово встретилось\n",
    "            arr_word.append(rule)  # добавляем его\n",
    "            \n",
    "    #  Получаем множество слов, часто встречающихся с word\n",
    "    arr_rule.append(set.union(*arr_word)) \n",
    "arr_rule[:5]"
   ]
  },
  {
   "cell_type": "markdown",
   "metadata": {},
   "source": [
    "Получили для каждого слова множество слов, с которыми оно часто встречается. Теперь сделаем групировку уже по наболее похожим правилам. "
   ]
  },
  {
   "cell_type": "code",
   "execution_count": 49,
   "metadata": {},
   "outputs": [
    {
     "data": {
      "text/plain": [
       "4"
      ]
     },
     "execution_count": 49,
     "metadata": {},
     "output_type": "execute_result"
    }
   ],
   "source": [
    "# Остортивуем список по длинне множеств в нем\n",
    "arr_rule = sorted(arr_rule, key = len, reverse=True)\n",
    "\n",
    "# ДЛя каждого правила\n",
    "for i, rule in enumerate(arr_rule):\n",
    "    \n",
    "    # Для всех следующих правил (меньшей длины)\n",
    "    for new_rule in arr_rule[i+1:]:\n",
    "        # Если правило состоит из менее 3-х признаков или явл-ся подмножеством rule, то удаляем его\n",
    "        if new_rule in arr_rule and (len(new_rule) < 3 or new_rule.issubset(arr_rule[i])):\n",
    "            arr_rule.remove(new_rule)\n",
    "            \n",
    "        # Здесь использована достаточно эмпирическая оценка схожести правил, если мощность пересечения двух правил \n",
    "        # меньше чем в 2 раза меньше длины нового правила, то берем их объединение\n",
    "        elif (len(new_rule) - len(new_rule.intersection(rule))) / len(new_rule) < 0.5:\n",
    "            arr_rule[i] = arr_rule[i].union(new_rule)\n",
    "            arr_rule.remove(new_rule)\n",
    "            \n",
    "len(arr_rule)"
   ]
  },
  {
   "cell_type": "markdown",
   "metadata": {},
   "source": [
    "В итоге получаем 4 правила, два из них (2 и 3) вероятно относятся к тэгу \"Федерер\", но такое разделение имеет право на существование, поскольку тексты действительно сильно отличаются по тематике, одни связаны непосредственно со спортсменом, другие с жизнью всех тенисистов. \n",
    "\n",
    "Также стоит отметить, что нет правила для класса ЧМ2018, возможно это связанно с отсутсвтие сильно информативных слов (выделяющих его от други классов) в тестах с этим тегом."
   ]
  },
  {
   "cell_type": "code",
   "execution_count": 50,
   "metadata": {},
   "outputs": [
    {
     "name": "stdout",
     "output_type": "stream",
     "text": [
      "{'французский', 'зачет', 'секунда', 'медаль', 'эстафета', 'фуркада', 'промах', 'симона', 'лыжа', 'лыжный', 'трасса', 'стрельба', 'норвежец', 'финиш', 'преследование', 'эмиль', 'индивидуальный', 'подиум', 'биатлон', 'биатлонист', 'спринт', 'золото', 'стреляю', 'француз', 'антон', 'рубеж'} \n",
      "\n",
      "\n",
      "{'шлем', 'сетка', 'новак', 'ракетка', 'гейм', 'дель', 'федерера', 'полуфинал', 'маррей', 'теннисист', 'шарапова', 'серен', 'джокович', 'ролан', 'рейтинг', 'теннис', 'теннисный', 'выпуск', 'уильямс', 'федерером', 'швейцарец', 'хуан', 'мартин', 'сет', 'подача', 'виктория', 'томаш', 'энди', 'гаррос', 'партия', 'рафа', 'рафаэль', 'мария'} \n",
      "\n",
      "\n",
      "{'елена', 'шарапова', 'ана', 'анастасия', 'мартин', 'джокович', 'новак', 'дель', 'иванович', 'виктория', 'выпуск', 'уильямс', 'мария', 'хуан'} \n",
      "\n",
      "\n",
      "{'динамо', 'зенит', 'вратарь', 'забил', 'ворота', 'локомотив', 'гол', 'лига', 'оборона', 'защитник', 'цска'} \n",
      "\n",
      "\n"
     ]
    }
   ],
   "source": [
    "for i in arr_rule:\n",
    "    print(i, '\\n\\n')"
   ]
  },
  {
   "cell_type": "code",
   "execution_count": null,
   "metadata": {},
   "outputs": [],
   "source": []
  }
 ],
 "metadata": {
  "kernelspec": {
   "display_name": "Python 3",
   "language": "python",
   "name": "python3"
  },
  "language_info": {
   "codemirror_mode": {
    "name": "ipython",
    "version": 3
   },
   "file_extension": ".py",
   "mimetype": "text/x-python",
   "name": "python",
   "nbconvert_exporter": "python",
   "pygments_lexer": "ipython3",
   "version": "3.6.4"
  }
 },
 "nbformat": 4,
 "nbformat_minor": 2
}
